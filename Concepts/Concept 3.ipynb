{
 "cells": [
  {
   "cell_type": "markdown",
   "metadata": {},
   "source": [
    "Mohammed Faraz Ali"
   ]
  },
  {
   "cell_type": "markdown",
   "metadata": {},
   "source": [
    "Intersection over Union is an evaluation metric used to measure the accuracy of an object detector on a particular dataset.\n"
   ]
  },
  {
   "cell_type": "code",
   "execution_count": 1,
   "metadata": {},
   "outputs": [
    {
     "name": "stdout",
     "output_type": "stream",
     "text": [
      "The Instersection over Union is:  0.0\n"
     ]
    }
   ],
   "source": [
    "import numpy as np\n",
    "\n",
    "def bb_intersection_over_union(boxA, boxB):\n",
    "    #(x, y)-coordinates of the intersection rectangle\n",
    "    xA = max(boxA[0], boxB[0]) \n",
    "    yA = max(boxA[1], boxB[1])\n",
    "    xB = min(boxA[2], boxB[2])\n",
    "    yB = min(boxA[3], boxB[3])\n",
    "\n",
    "    #Area of the intersection rectangle\n",
    "    interArea = (xB - xA) * (yB - yA)\n",
    "\n",
    "    #The area of both the prediction and ground-truth\n",
    "    \n",
    "    boxAArea = (boxA[2] - boxA[0]) * (boxA[3] - boxA[1])\n",
    "    boxBArea = (boxB[2] - boxB[0]) * (boxB[3] - boxB[1])\n",
    "\n",
    "    \n",
    "    iou = interArea / float(boxAArea + boxBArea - interArea)\n",
    "    return iou\n",
    "\n",
    "boxA = (10,20,30,40) #( leftmost x of rectangle A, leftmost y of rectangle A, Right most x of rectangle A, Rightmost y of rectangle A)\n",
    "boxB = (20,20,20,50)#( leftmost x of rectangle B, leftmost y of rectangle B, Right most x of rectangle B, Rightmost y of rectangle B)\n",
    "iou=bb_intersection_over_union(boxA, boxB)\n",
    "print(\"The Instersection over Union is: \",iou)"
   ]
  }
 ],
 "metadata": {
  "kernelspec": {
   "display_name": "Python 3",
   "language": "python",
   "name": "python3"
  },
  "language_info": {
   "codemirror_mode": {
    "name": "ipython",
    "version": 3
   },
   "file_extension": ".py",
   "mimetype": "text/x-python",
   "name": "python",
   "nbconvert_exporter": "python",
   "pygments_lexer": "ipython3",
   "version": "3.5.2"
  }
 },
 "nbformat": 4,
 "nbformat_minor": 2
}
