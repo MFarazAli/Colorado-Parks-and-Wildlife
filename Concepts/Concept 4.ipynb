{
 "cells": [
  {
   "cell_type": "markdown",
   "metadata": {},
   "source": [
    "Mohammed Faraz Ali"
   ]
  },
  {
   "cell_type": "code",
   "execution_count": 1,
   "metadata": {},
   "outputs": [],
   "source": [
    "import tensorflow as tf"
   ]
  },
  {
   "cell_type": "code",
   "execution_count": 2,
   "metadata": {},
   "outputs": [
    {
     "name": "stdout",
     "output_type": "stream",
     "text": [
      "[-96.8  437.9   60.75]\n"
     ]
    }
   ],
   "source": [
    "# Initialize input, weights and bias\n",
    "x = tf.constant([56.0,231.0,24.0,2.0])\n",
    "w = tf.constant([[0.2,-0.5,0.1,2],[1.5,1.3,2.1,0],[0,0.25,0.2,-0.3]])\n",
    "b= tf.constant([1.1,3.2,-1.2])\n",
    "# Multiply\n",
    "result = tf.add(tf.reduce_sum(tf.multiply(x, w),1),b)\n",
    "\n",
    "# Initialize Session and run `result`\n",
    "with tf.Session() as sess:\n",
    "    output = sess.run(result)\n",
    "    print(output)"
   ]
  },
  {
   "cell_type": "code",
   "execution_count": null,
   "metadata": {},
   "outputs": [],
   "source": []
  }
 ],
 "metadata": {
  "kernelspec": {
   "display_name": "Python 3",
   "language": "python",
   "name": "python3"
  },
  "language_info": {
   "codemirror_mode": {
    "name": "ipython",
    "version": 3
   },
   "file_extension": ".py",
   "mimetype": "text/x-python",
   "name": "python",
   "nbconvert_exporter": "python",
   "pygments_lexer": "ipython3",
   "version": "3.5.2"
  }
 },
 "nbformat": 4,
 "nbformat_minor": 2
}
