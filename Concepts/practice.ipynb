{
 "cells": [
  {
   "cell_type": "code",
   "execution_count": 60,
   "metadata": {},
   "outputs": [],
   "source": [
    "import numpy as np\n",
    "from math import e\n"
   ]
  },
  {
   "cell_type": "code",
   "execution_count": 61,
   "metadata": {},
   "outputs": [
    {
     "name": "stdout",
     "output_type": "stream",
     "text": [
      "res1= [array([0.76852478]), array([0.7957597]), array([0.82053848]), array([0.84290453])]\n"
     ]
    }
   ],
   "source": [
    "\n",
    "# input two matrices\n",
    "w = np.array([[0.01, 0.05, 0.09],[0.02 ,0.06, 0.10],[0.03, 0.07, 0.11],[0.04,0.08,0.12]])\n",
    "x = np.array([[1],[5],[9]])\n",
    "b=np.array([[0.13],[0.14],[0.15],[0.16]])\n",
    " \n",
    "# This will return dot product\n",
    "y = np.dot(w,x)+b\n",
    " \n",
    "# print resulted matrix\n",
    "#print(y)\n",
    "parameter='Sigmoid'\n",
    "#parameter='ReLu'\n",
    "if parameter=='Sigmoid':\n",
    "    res=[]\n",
    "    for z in y:\n",
    "        res.append(1/(1+e**(-z))) \n",
    "elif parameter=='ReLu':\n",
    "    res=[]\n",
    "    for z in y:\n",
    "        res.append(max(0,z))\n",
    "    \n",
    "print(\"res1=\",res)    "
   ]
  },
  {
   "cell_type": "code",
   "execution_count": 62,
   "metadata": {},
   "outputs": [
    {
     "name": "stdout",
     "output_type": "stream",
     "text": [
      "[[0.89802468]\n",
      " [0.94030195]]\n",
      "res2= [array([0.7105434]), array([0.71916065])]\n"
     ]
    }
   ],
   "source": [
    "w2 = np.array([[0.17, 0.19, 0.21,0.23],[0.18 ,0.20, 0.22,0.24]])\n",
    "x2=res\n",
    "b2=np.array([[0.25],[0.26]])\n",
    "y2 = np.dot(w2,x2)+b2\n",
    " \n",
    "# print resulted matrix\n",
    "print(y2)\n",
    "\n",
    "parameter='Sigmoid'\n",
    "#parameter='ReLu'\n",
    "if parameter=='Sigmoid':\n",
    "    res=[]\n",
    "    for z in y2:\n",
    "        res.append(1/(1+e**(-z))) \n",
    "elif parameter=='ReLu':\n",
    "    res=[]\n",
    "    for z in y2:\n",
    "        res.append(max(0,z))\n",
    "print(\"res2=\",res)"
   ]
  },
  {
   "cell_type": "code",
   "execution_count": null,
   "metadata": {},
   "outputs": [],
   "source": []
  }
 ],
 "metadata": {
  "kernelspec": {
   "display_name": "Python 3",
   "language": "python",
   "name": "python3"
  },
  "language_info": {
   "codemirror_mode": {
    "name": "ipython",
    "version": 3
   },
   "file_extension": ".py",
   "mimetype": "text/x-python",
   "name": "python",
   "nbconvert_exporter": "python",
   "pygments_lexer": "ipython3",
   "version": "3.5.2"
  }
 },
 "nbformat": 4,
 "nbformat_minor": 2
}
