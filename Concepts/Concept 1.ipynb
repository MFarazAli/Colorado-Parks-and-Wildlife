{
 "cells": [
  {
   "cell_type": "markdown",
   "metadata": {},
   "source": [
    "Mohammed Faraz Ali"
   ]
  },
  {
   "cell_type": "code",
   "execution_count": 1,
   "metadata": {},
   "outputs": [],
   "source": [
    "import numpy as np\n",
    "from math import e"
   ]
  },
  {
   "cell_type": "code",
   "execution_count": 2,
   "metadata": {},
   "outputs": [],
   "source": [
    "def calc(w,x,b,parameter):\n",
    "    #parameter='ReLu'\n",
    "    y = np.dot(w,x)+b\n",
    "    if parameter=='Sigmoid':\n",
    "        res=[]\n",
    "        for z in y:\n",
    "            res.append(1/(1+e**(-z))) \n",
    "    elif parameter=='ReLu':\n",
    "        res=[]\n",
    "        for z in y:\n",
    "            res.append(max(0,z))\n",
    "    return res"
   ]
  },
  {
   "cell_type": "code",
   "execution_count": 3,
   "metadata": {},
   "outputs": [
    {
     "name": "stdout",
     "output_type": "stream",
     "text": [
      "Nodes at Middle layer:  [array([0.76852478]), array([0.7957597]), array([0.82053848]), array([0.84290453])]\n"
     ]
    }
   ],
   "source": [
    "w1 = np.array([[0.01, 0.05, 0.09],[0.02 ,0.06, 0.10],[0.03, 0.07, 0.11],[0.04,0.08,0.12]])\n",
    "x1 = np.array([[1],[5],[9]])\n",
    "b1=np.array([[0.13],[0.14],[0.15],[0.16]])\n",
    "parameter='Sigmoid'\n",
    "#parameter='ReLu'\n",
    "\n",
    "middle_layer=calc(w1,x1,b1,parameter)\n",
    "print(\"Nodes at Middle layer: \",middle_layer)"
   ]
  },
  {
   "cell_type": "code",
   "execution_count": 4,
   "metadata": {},
   "outputs": [
    {
     "name": "stdout",
     "output_type": "stream",
     "text": [
      "Nodes at Output layer:  [array([0.7105434]), array([0.71916065])]\n"
     ]
    }
   ],
   "source": [
    "w2 = np.array([[0.17, 0.19, 0.21,0.23],[0.18 ,0.20, 0.22,0.24]])\n",
    "x2= middle_layer\n",
    "b2=np.array([[0.25],[0.26]])\n",
    "parameter='Sigmoid'\n",
    "#parameter='ReLu'\n",
    "\n",
    "output_layer=calc(w2,x2,b2,parameter)\n",
    "print(\"Nodes at Output layer: \",output_layer)"
   ]
  },
  {
   "cell_type": "code",
   "execution_count": null,
   "metadata": {},
   "outputs": [],
   "source": []
  }
 ],
 "metadata": {
  "kernelspec": {
   "display_name": "Python 3",
   "language": "python",
   "name": "python3"
  },
  "language_info": {
   "codemirror_mode": {
    "name": "ipython",
    "version": 3
   },
   "file_extension": ".py",
   "mimetype": "text/x-python",
   "name": "python",
   "nbconvert_exporter": "python",
   "pygments_lexer": "ipython3",
   "version": "3.5.2"
  }
 },
 "nbformat": 4,
 "nbformat_minor": 2
}
