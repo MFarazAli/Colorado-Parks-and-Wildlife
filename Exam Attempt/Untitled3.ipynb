{
 "cells": [
  {
   "cell_type": "code",
   "execution_count": 79,
   "metadata": {},
   "outputs": [],
   "source": [
    "import numpy as np\n",
    "import operator\n",
    "import os\n",
    "import cv2\n",
    "import re\n",
    "import pylab as pl\n",
    "from fnmatch import fnmatch\n",
    "from IPython.core.display import Image\n",
    "import matplotlib.pyplot as plt"
   ]
  },
  {
   "cell_type": "code",
   "execution_count": 80,
   "metadata": {},
   "outputs": [
    {
     "name": "stdout",
     "output_type": "stream",
     "text": [
      "Distance of Point F with Points:   {'B': 25, 'E': 13, 'A': 25, 'C': 5, 'D': 32}\n"
     ]
    }
   ],
   "source": [
    "Data=dict()\n",
    "Euc_Dist=dict()\n",
    "Data['A'] = (np.array([1,2]),'Good')\n",
    "Data['B'] = (np.array([2,9]),'Bad')\n",
    "Data['C'] = (np.array([6,3]),'Good')\n",
    "Data['D'] = (np.array([9,1]),'Good')\n",
    "Data['E'] = (np.array([3,2]),'Bad')\n",
    "DataF = np.array([5,5])\n",
    "\n",
    "for keys in Data:   #Points is Dictionary\n",
    "    Euc_Dist[keys]= sum(np.square(Data[keys][0]-DataF))\n",
    "print(\"Distance of Point F with Points:  \",Euc_Dist)"
   ]
  },
  {
   "cell_type": "code",
   "execution_count": 81,
   "metadata": {},
   "outputs": [
    {
     "name": "stdout",
     "output_type": "stream",
     "text": [
      "[1, 2, 3, 4, 5]\n",
      "[('C', 5), ('E', 13), ('B', 25), ('A', 25), ('D', 32)]\n",
      "[[('C', 5), 1], [('E', 13), 2], [('B', 25), 3], [('A', 25), 4], [('D', 32), 5]]\n"
     ]
    }
   ],
   "source": [
    "Rank=[]\n",
    "new=[]\n",
    "for i in range(len(Euc_Dist)):\n",
    "    Rank.append(i+1)\n",
    "print(Rank)\n",
    "    \n",
    "Euc_Dist = sorted(Euc_Dist.items(), key=operator.itemgetter(1))\n",
    "print(Euc_Dist)\n",
    "\n",
    "for a, b in zip(Euc_Dist, Rank):\n",
    "    new.append([a, b])\n",
    "print(new)"
   ]
  },
  {
   "cell_type": "code",
   "execution_count": 82,
   "metadata": {},
   "outputs": [
    {
     "ename": "NameError",
     "evalue": "name 'K' is not defined",
     "output_type": "error",
     "traceback": [
      "\u001b[0;31m---------------------------------------------------------------------------\u001b[0m",
      "\u001b[0;31mNameError\u001b[0m                                 Traceback (most recent call last)",
      "\u001b[0;32m<ipython-input-82-52b3620a8ac3>\u001b[0m in \u001b[0;36m<module>\u001b[0;34m()\u001b[0m\n\u001b[1;32m      4\u001b[0m \u001b[0mg\u001b[0m\u001b[0;34m=\u001b[0m\u001b[0;36m0\u001b[0m\u001b[0;34m\u001b[0m\u001b[0m\n\u001b[1;32m      5\u001b[0m \u001b[0mb\u001b[0m\u001b[0;34m=\u001b[0m\u001b[0;36m0\u001b[0m\u001b[0;34m\u001b[0m\u001b[0m\n\u001b[0;32m----> 6\u001b[0;31m \u001b[0;32mfor\u001b[0m \u001b[0mi\u001b[0m \u001b[0;32min\u001b[0m \u001b[0mrange\u001b[0m\u001b[0;34m(\u001b[0m\u001b[0mK\u001b[0m\u001b[0;34m)\u001b[0m\u001b[0;34m:\u001b[0m\u001b[0;34m\u001b[0m\u001b[0m\n\u001b[0m\u001b[1;32m      7\u001b[0m     \u001b[0;32mif\u001b[0m \u001b[0mData\u001b[0m\u001b[0;34m[\u001b[0m\u001b[0mkey\u001b[0m\u001b[0;34m]\u001b[0m\u001b[0;34m[\u001b[0m\u001b[0;36m2\u001b[0m\u001b[0;34m]\u001b[0m\u001b[0;34m==\u001b[0m\u001b[0;34m'Good'\u001b[0m\u001b[0;34m:\u001b[0m\u001b[0;34m\u001b[0m\u001b[0m\n\u001b[1;32m      8\u001b[0m         \u001b[0mg\u001b[0m\u001b[0;34m=\u001b[0m\u001b[0mg\u001b[0m\u001b[0;34m+\u001b[0m\u001b[0;36m1\u001b[0m\u001b[0;34m\u001b[0m\u001b[0m\n",
      "\u001b[0;31mNameError\u001b[0m: name 'K' is not defined"
     ]
    }
   ],
   "source": [
    "# Data is Dictionary\n",
    "#Eucledian Distance is List\n",
    "k=3\n",
    "g=0\n",
    "b=0\n",
    "for i in range(K):\n",
    "    \n",
    "    if Data[key][2]=='Good':\n",
    "        g=g+1\n",
    "    else:\n",
    "        b=b+1\n",
    "        \n",
    "    "
   ]
  },
  {
   "cell_type": "code",
   "execution_count": null,
   "metadata": {},
   "outputs": [],
   "source": [
    "print(Data)"
   ]
  },
  {
   "cell_type": "code",
   "execution_count": null,
   "metadata": {},
   "outputs": [],
   "source": [
    "print(Data['E'])\n",
    "print(Data['E'][0])\n",
    "print(Data['F'])\n",
    "print(Data['F'][0])"
   ]
  },
  {
   "cell_type": "code",
   "execution_count": null,
   "metadata": {},
   "outputs": [],
   "source": []
  }
 ],
 "metadata": {
  "kernelspec": {
   "display_name": "Python 3",
   "language": "python",
   "name": "python3"
  },
  "language_info": {
   "codemirror_mode": {
    "name": "ipython",
    "version": 3
   },
   "file_extension": ".py",
   "mimetype": "text/x-python",
   "name": "python",
   "nbconvert_exporter": "python",
   "pygments_lexer": "ipython3",
   "version": "3.5.2"
  }
 },
 "nbformat": 4,
 "nbformat_minor": 2
}
