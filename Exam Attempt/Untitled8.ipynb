{
 "cells": [
  {
   "cell_type": "code",
   "execution_count": 87,
   "metadata": {},
   "outputs": [],
   "source": [
    "import numpy as np\n",
    "import operator\n",
    "import os\n",
    "import cv2\n",
    "import re\n",
    "import pylab as pl\n",
    "from fnmatch import fnmatch\n",
    "from IPython.core.display import Image\n",
    "import matplotlib.pyplot as plt\n",
    "from PIL import Image\n",
    "from scipy import ndimage"
   ]
  },
  {
   "cell_type": "code",
   "execution_count": 88,
   "metadata": {},
   "outputs": [
    {
     "name": "stdout",
     "output_type": "stream",
     "text": [
      "(180, 100)\n",
      "[180 100]\n"
     ]
    },
    {
     "data": {
      "image/png": "[encoded data removed]",
      "text/plain": [
       "<matplotlib.figure.Figure at 0x7f9df5c3d080>"
      ]
     },
     "metadata": {},
     "output_type": "display_data"
    }
   ],
   "source": [
    "img = np.ones((512,512,3), np.uint8)\n",
    "img=img*255\n",
    "plt.imshow(img)\n",
    "Points=dict()\n",
    "Points['1']=(np.array([180,100]),(255,0,0),1)    #Location,Color,Weight\n",
    "Points['2']=(np.array([100,200]),(255,0,0),1)\n",
    "Points['3']=(np.array([300,150]),(255,0,0),1)\n",
    "Points['4']=(np.array([350,50]),(0,0,255),1)\n",
    "Points['5']=(np.array([400,200]),(0,0,255),1)\n",
    "Points['6']=(np.array([280,300]),(0,0,250),1)\n",
    "Points['7']=(np.array([200,400]),(255,0,0),1)\n",
    "Points['8']=(np.array([300,420]),(0,0,255),1)\n",
    "Points['9']=(np.array([370,320]),(0,0,255),1)\n",
    "\n",
    "A1=np.array([0,10])\n",
    "A2=np.array([500,350])\n",
    "\n",
    "B1=np.array([240,1])\n",
    "B2=np.array([240,500])\n",
    "\n",
    "C1=np.array([10,250])\n",
    "C2=np.array([500,250])\n",
    "\n",
    "D1=np.array([10,300])\n",
    "D2=np.array([500,125])\n",
    "\n",
    "thresh=np.array([10,10])\n",
    "\n",
    "print(tuple(Points['1'][0]))\n",
    "print(Points['1'][0])"
   ]
  },
  {
   "cell_type": "code",
   "execution_count": 89,
   "metadata": {},
   "outputs": [
    {
     "data": {
      "text/plain": [
       "<matplotlib.image.AxesImage at 0x7f9df57c4550>"
      ]
     },
     "execution_count": 89,
     "metadata": {},
     "output_type": "execute_result"
    },
    {
     "data": {
      "image/png": "[encoded data removed]",
      "text/plain": [
       "<matplotlib.figure.Figure at 0x7f9df58aeb70>"
      ]
     },
     "metadata": {},
     "output_type": "display_data"
    }
   ],
   "source": [
    "\n",
    "font = cv2.FONT_HERSHEY_SIMPLEX\n",
    "\n",
    "for keys in Points:\n",
    "    img = cv2.circle(img,tuple(Points[keys][0]), 20, Points[keys][1], -1)\n",
    "    cv2.putText(img,keys,tuple(Points[keys][0]), font, 1,(0,0,0),2,cv2.LINE_AA)\n",
    "img = cv2.line(img,tuple(A1),tuple(A2),(0,0,0),3)\n",
    "cv2.putText(img,\"A\",tuple(A2-thresh), font, 1,(0,0,0),2,cv2.LINE_AA)\n",
    "\n",
    "img = cv2.line(img,tuple(C1),tuple(C2),(0,0,0),3)\n",
    "cv2.putText(img,\"C\",tuple(C2-thresh), font, 1,(0,0,0),2,cv2.LINE_AA)\n",
    "\n",
    "img = cv2.line(img,tuple(D1),tuple(D2),(0,0,0),3)\n",
    "cv2.putText(img,\"D\",tuple(D2-thresh), font, 1,(0,0,0),2,cv2.LINE_AA)\n",
    "\n",
    "img = cv2.line(img,tuple(B1),tuple(B2),(0,0,0),3)\n",
    "cv2.putText(img,\"B\",tuple(B2), font, 1,(0,0,0),2,cv2.LINE_AA)\n",
    "plt.imshow(img)"
   ]
  },
  {
   "cell_type": "code",
   "execution_count": 90,
   "metadata": {},
   "outputs": [
    {
     "name": "stdout",
     "output_type": "stream",
     "text": [
      "BELOW LINE A is BLUE\n",
      "\n",
      "Point 2 lies Below line A\n",
      "And since it is RED, Increasing weight to  2\n",
      "\n",
      "\n",
      "Point 1 lies Above line A\n",
      "Point 9 lies Below line A\n",
      "Point 4 lies Above line A\n",
      "And since it is BLUE, Increasing weight to  2\n",
      "\n",
      "\n",
      "Point 7 lies Below line A\n",
      "And since it is RED, Increasing weight to  2\n",
      "\n",
      "\n",
      "Point 8 lies Below line A\n",
      "Point 3 lies Above line A\n",
      "Point 5 lies Above line A\n",
      "And since it is BLUE, Increasing weight to  2\n",
      "\n",
      "\n",
      "Point 6 lies Below line A\n",
      "Right of LINE B is BLUE\n",
      "\n",
      "Point 2 lies Left line B\n",
      "Point 1 lies Left line B\n",
      "Point 9 lies Right line B\n",
      "Point 4 lies Right line B\n",
      "Point 7 lies Left line B\n",
      "Point 8 lies Right line B\n",
      "Point 3 lies Right line B\n",
      "And since it is RED, Increasing weight to  2\n",
      "\n",
      "\n",
      "Point 5 lies Right line B\n",
      "Point 6 lies Right line B\n"
     ]
    }
   ],
   "source": [
    "#if numpy.cross(p-a, b-a) < 0:\n",
    "print(\"BELOW LINE A is BLUE\\n\")\n",
    "for keys in Points:\n",
    "    if np.cross(Points[keys][0]-A1, A2-A1) < 0:\n",
    "        print(\"Point %s lies Below line A\" %keys)\n",
    "        if Points[keys][1]==(255,0,0):#is RED\n",
    "            print(\"And since it is RED, Increasing weight to \",Points[keys][2]+1)#Then Increase its weight\n",
    "            print(\"\\n\")\n",
    "    else:\n",
    "        print(\"Point %s lies Above line A\" %keys)\n",
    "        if Points[keys][1]==(0,0,255):#is BLUE\n",
    "            print(\"And since it is BLUE, Increasing weight to \",Points[keys][2]+1)#Then Increase its weight\n",
    "            print(\"\\n\")\n",
    "print(\"Right of LINE B is BLUE\\n\")\n",
    "for keys in Points:\n",
    "    if np.cross(Points[keys][0]-B1, B2-B1) < 0:\n",
    "        print(\"Point %s lies Left line B\" %keys)\n",
    "        if Points[keys][1]==(0,0,255):#is BLUE\n",
    "            print(\"And since it is BLUE, Increasing weight to \",Points[keys][2]+1)#Then Increase its weight\n",
    "            print(\"\\n\")\n",
    "    else:\n",
    "        print(\"Point %s lies Right line B\" %keys)\n",
    "        if Points[keys][1]==(255,0,0):#is RED\n",
    "            print(\"And since it is RED, Increasing weight to \",Points[keys][2]+1)#Then Increase its weight\n",
    "            print(\"\\n\")"
   ]
  },
  {
   "cell_type": "code",
   "execution_count": null,
   "metadata": {},
   "outputs": [],
   "source": []
  }
 ],
 "metadata": {
  "kernelspec": {
   "display_name": "Python 3",
   "language": "python",
   "name": "python3"
  },
  "language_info": {
   "codemirror_mode": {
    "name": "ipython",
    "version": 3
   },
   "file_extension": ".py",
   "mimetype": "text/x-python",
   "name": "python",
   "nbconvert_exporter": "python",
   "pygments_lexer": "ipython3",
   "version": "3.5.2"
  }
 },
 "nbformat": 4,
 "nbformat_minor": 2
}
