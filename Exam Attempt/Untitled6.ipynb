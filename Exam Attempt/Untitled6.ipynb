{
 "cells": [
  {
   "cell_type": "code",
   "execution_count": 111,
   "metadata": {},
   "outputs": [],
   "source": [
    "import numpy as np\n",
    "import operator\n",
    "import os\n",
    "import cv2\n",
    "import re\n",
    "import pylab as pl\n",
    "from fnmatch import fnmatch\n",
    "from IPython.core.display import Image\n",
    "import matplotlib.pyplot as plt\n",
    "from PIL import Image\n",
    "from scipy import ndimage"
   ]
  },
  {
   "cell_type": "code",
   "execution_count": 112,
   "metadata": {},
   "outputs": [
    {
     "data": {
      "image/png": "[encoded data removed]",
      "text/plain": [
       "<matplotlib.figure.Figure at 0x7efc4e903400>"
      ]
     },
     "metadata": {},
     "output_type": "display_data"
    }
   ],
   "source": [
    "img = np.ones((512,512,3), np.uint8)\n",
    "img=img*255\n",
    "plt.imshow(img)\n",
    "point1=(180,100)\n",
    "point2=(100,200)\n",
    "point3=(300,150)\n",
    "point4=(350,50)\n",
    "point5=(400,200)\n",
    "point6=(280,300)\n",
    "point7=(200,400)\n",
    "point8=(300,420)\n",
    "point9=(370,320)\n",
    "\n",
    "A1=(0,10)\n",
    "A2=(500,350)"
   ]
  },
  {
   "cell_type": "code",
   "execution_count": 113,
   "metadata": {},
   "outputs": [
    {
     "data": {
      "text/plain": [
       "<matplotlib.image.AxesImage at 0x7efc4e8b72b0>"
      ]
     },
     "execution_count": 113,
     "metadata": {},
     "output_type": "execute_result"
    },
    {
     "data": {
      "image/png": "[encoded data removed]",
      "text/plain": [
       "<matplotlib.figure.Figure at 0x7efc4e8a6c18>"
      ]
     },
     "metadata": {},
     "output_type": "display_data"
    }
   ],
   "source": [
    "font = cv2.FONT_HERSHEY_SIMPLEX\n",
    "\n",
    "img = cv2.circle(img,point1, 20, (255,0,0), -1)\n",
    "cv2.putText(img,'1',point1, font, 1,(0,0,0),2,cv2.LINE_AA)\n",
    "\n",
    "img = cv2.circle(img,point2, 20, (255,0,0), -1)\n",
    "cv2.putText(img,'2',point2, font, 1,(0,0,0),2,cv2.LINE_AA)\n",
    "\n",
    "img = cv2.circle(img,point3, 20, (255,0,0), -1)\n",
    "cv2.putText(img,'3',point3, font, 1,(0,0,0),2,cv2.LINE_AA)\n",
    "\n",
    "img = cv2.circle(img,point4, 20, (0,0,255), -1)\n",
    "cv2.putText(img,'4',point4, font, 1,(0,0,0),2,cv2.LINE_AA)\n",
    "\n",
    "img = cv2.circle(img,point5, 20, (0,0,255), -1)\n",
    "cv2.putText(img,'5',point5, font, 1,(0,0,0),2,cv2.LINE_AA)\n",
    "\n",
    "img = cv2.circle(img,point6, 20, (0,0,250), -1)\n",
    "cv2.putText(img,'6',point6, font, 1,(0,0,0),2,cv2.LINE_AA)\n",
    "\n",
    "img = cv2.circle(img,point7, 20, (255,0,0), -1)\n",
    "cv2.putText(img,'7',point7, font, 1,(0,0,0),2,cv2.LINE_AA)\n",
    "\n",
    "img = cv2.circle(img,point8, 20, (0,0,255), -1)\n",
    "cv2.putText(img,'8',point8, font, 1,(0,0,0),2,cv2.LINE_AA)\n",
    "\n",
    "img = cv2.circle(img,point9, 20, (0,0,255), -1)\n",
    "cv2.putText(img,'9',point9, font, 1,(0,0,0),2,cv2.LINE_AA)\n",
    "\n",
    "img = cv2.line(img,A1,A2,(0,0,0),3)\n",
    "plt.imshow(img)"
   ]
  },
  {
   "cell_type": "code",
   "execution_count": 114,
   "metadata": {},
   "outputs": [
    {
     "ename": "TypeError",
     "evalue": "unorderable types: int() < tuple()",
     "output_type": "error",
     "traceback": [
      "\u001b[0;31m---------------------------------------------------------------------------\u001b[0m",
      "\u001b[0;31mTypeError\u001b[0m                                 Traceback (most recent call last)",
      "\u001b[0;32m<ipython-input-114-dd1dfe602400>\u001b[0m in \u001b[0;36m<module>\u001b[0;34m()\u001b[0m\n\u001b[0;32m----> 1\u001b[0;31m \u001b[0;32mif\u001b[0m \u001b[0mpoint1\u001b[0m\u001b[0;34m<\u001b[0m\u001b[0mA\u001b[0m\u001b[0;34m:\u001b[0m\u001b[0;34m\u001b[0m\u001b[0m\n\u001b[0m\u001b[1;32m      2\u001b[0m     \u001b[0merror\u001b[0m\u001b[0;34m=\u001b[0m\u001b[0;36m1\u001b[0m\u001b[0;34m\u001b[0m\u001b[0m\n",
      "\u001b[0;31mTypeError\u001b[0m: unorderable types: int() < tuple()"
     ]
    }
   ],
   "source": [
    "if point1<A:\n",
    "    error=1"
   ]
  }
 ],
 "metadata": {
  "kernelspec": {
   "display_name": "Python 3",
   "language": "python",
   "name": "python3"
  },
  "language_info": {
   "codemirror_mode": {
    "name": "ipython",
    "version": 3
   },
   "file_extension": ".py",
   "mimetype": "text/x-python",
   "name": "python",
   "nbconvert_exporter": "python",
   "pygments_lexer": "ipython3",
   "version": "3.5.2"
  }
 },
 "nbformat": 4,
 "nbformat_minor": 2
}
