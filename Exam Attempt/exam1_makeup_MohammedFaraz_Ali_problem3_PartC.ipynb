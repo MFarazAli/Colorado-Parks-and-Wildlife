{
 "cells": [
  {
   "cell_type": "markdown",
   "metadata": {},
   "source": [
    "Mohammed Faraz Ali\n",
    "Problem 3, Similarity Analysis and Histogram/Vector Matching [Part C]"
   ]
  },
  {
   "cell_type": "code",
   "execution_count": 18,
   "metadata": {},
   "outputs": [],
   "source": [
    "import numpy as np\n",
    "import operator"
   ]
  },
  {
   "cell_type": "code",
   "execution_count": 19,
   "metadata": {},
   "outputs": [
    {
     "name": "stdout",
     "output_type": "stream",
     "text": [
      "Chi Square results: [('C', 0.03428571428571429), ('A', 0.10900210900210902), ('B', 0.22761904761904767)]\n"
     ]
    }
   ],
   "source": [
    "def Chisquare(Target,DataSet):\n",
    "    return sum(np.square(Target-DataSet)/(Target+DataSet))\n",
    "    \n",
    "Target = np.array([.1,.2,.3,.4])\n",
    "DataSet = dict()\n",
    "CHI_DIST = dict()\n",
    "\n",
    "DataSet['A'] = np.array([.25,.25,.25,.25])\n",
    "DataSet['B'] = np.array([.20,.20,.40,.10])\n",
    "DataSet['C'] = np.array([.10,.30,.30,.30])\n",
    "\n",
    "\n",
    "for keys in DataSet:\n",
    "    CHI_DIST[keys] = Chisquare(Target,DataSet[keys])\n",
    "\n",
    "Result = sorted(CHI_DIST.items(), key=operator.itemgetter(1)) #this will be a list and not Dictionary\n",
    "print ('Chi Square results:', Result)\n",
    "    \n",
    "\n"
   ]
  },
  {
   "cell_type": "code",
   "execution_count": null,
   "metadata": {},
   "outputs": [],
   "source": []
  },
  {
   "cell_type": "code",
   "execution_count": null,
   "metadata": {},
   "outputs": [],
   "source": []
  },
  {
   "cell_type": "code",
   "execution_count": null,
   "metadata": {},
   "outputs": [],
   "source": []
  }
 ],
 "metadata": {
  "kernelspec": {
   "display_name": "Python 3",
   "language": "python",
   "name": "python3"
  },
  "language_info": {
   "codemirror_mode": {
    "name": "ipython",
    "version": 3
   },
   "file_extension": ".py",
   "mimetype": "text/x-python",
   "name": "python",
   "nbconvert_exporter": "python",
   "pygments_lexer": "ipython3",
   "version": "3.5.2"
  }
 },
 "nbformat": 4,
 "nbformat_minor": 2
}
