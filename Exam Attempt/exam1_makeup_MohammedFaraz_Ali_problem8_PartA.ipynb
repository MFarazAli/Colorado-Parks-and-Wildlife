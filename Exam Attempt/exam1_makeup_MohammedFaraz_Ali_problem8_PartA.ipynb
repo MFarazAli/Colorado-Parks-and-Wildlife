{
 "cells": [
  {
   "cell_type": "markdown",
   "metadata": {},
   "source": [
    "Mohammed Faraz Ali\n",
    "Problem 8, KNN and Kmeans [Part A]"
   ]
  },
  {
   "cell_type": "code",
   "execution_count": 1,
   "metadata": {},
   "outputs": [],
   "source": [
    "import numpy as np\n",
    "import operator\n",
    "import os\n",
    "import cv2\n",
    "import re\n",
    "import pylab as pl\n",
    "from fnmatch import fnmatch\n",
    "from IPython.core.display import Image\n",
    "import matplotlib.pyplot as plt"
   ]
  },
  {
   "cell_type": "code",
   "execution_count": 2,
   "metadata": {},
   "outputs": [
    {
     "name": "stdout",
     "output_type": "stream",
     "text": [
      "Iteration No.:  1\n",
      "Distance of Centroid 1 with Points:   {'B': 4, 'A': 0, 'C': 2, 'D': 26}\n",
      "Distance of Centroid 2 with Points:   {'B': 0, 'A': 4, 'C': 2, 'D': 10}\n",
      "Group 1:  ['A']\n",
      "Group 2:  ['B', 'C', 'D']\n",
      "New Centroid 1: [1. 1.]\n",
      "New Centroid 2: [3.66666667 1.        ]\n",
      "\n",
      "\n",
      "\n",
      "Iteration No.:  2\n",
      "Distance of Centroid 1 with Points:   {'B': 4.0, 'A': 0.0, 'C': 2.0, 'D': 26.0}\n",
      "Distance of Centroid 2 with Points:   {'B': 0.44444444444444425, 'A': 7.111111111111111, 'C': 3.7777777777777772, 'D': 6.4444444444444455}\n",
      "Group 1:  ['A', 'C']\n",
      "Group 2:  ['B', 'D']\n",
      "New Centroid 1: [1.5 1.5]\n",
      "New Centroid 2: [4.5 0.5]\n",
      "\n",
      "\n",
      "\n"
     ]
    }
   ],
   "source": [
    "Points=dict()\n",
    "Dist_Cent1_Points=dict()\n",
    "Dist_Cent2_Points=dict()\n",
    "\n",
    "def Calculation(Points,Centroid1,Centroid2,niteration):\n",
    "    for i in range(niteration):\n",
    "        print(\"Iteration No.: \",i+1)\n",
    "        for keys in Points:   #Points is Dictionary\n",
    "            Dist_Cent1_Points[keys]= sum(np.square(Points[keys]-Centroid1))\n",
    "            Dist_Cent2_Points[keys]= sum(np.square(Points[keys]-Centroid2))\n",
    "        print(\"Distance of Centroid 1 with Points:  \",Dist_Cent1_Points)\n",
    "        print(\"Distance of Centroid 2 with Points:  \",Dist_Cent2_Points)\n",
    "        Group1=[]\n",
    "        Group2=[]\n",
    "        for keys in Points:\n",
    "            if Dist_Cent1_Points[keys]<Dist_Cent2_Points[keys]:\n",
    "                Group1.append(keys)\n",
    "            else:\n",
    "                Group2.append(keys)\n",
    "        print(\"Group 1: \",Group1)\n",
    "        print(\"Group 2: \",Group2)\n",
    "        s=np.array([0,0])\n",
    "    \n",
    "        for keys in Group1:\n",
    "            s= Points[keys]+s\n",
    "        newCentroid1=s/len(Group1)\n",
    "        s=np.array([0,0])\n",
    "    \n",
    "        for keys in Group2:\n",
    "            s= Points[keys]+s\n",
    "        newCentroid2=s/len(Group2)\n",
    "\n",
    "        print(\"New Centroid 1:\",newCentroid1)\n",
    "        print(\"New Centroid 2:\",newCentroid2)\n",
    "        Centroid1=newCentroid1\n",
    "        Centroid2=newCentroid2\n",
    "        print(\"\\n\\n\")\n",
    "        \n",
    "\n",
    "Points['A'] = np.array([1,1])\n",
    "Points['B'] = np.array([3,1])\n",
    "Points['C'] = np.array([2,2])\n",
    "Points['D'] = np.array([6,0])\n",
    "Centroid1 = np.array([1,1])\n",
    "Centroid2 = np.array([3,1])\n",
    "\n",
    "niteration=2 #No. of iterations\n",
    "\n",
    "#Points = sorted(Points.items(), key=operator.itemgetter(0))\n",
    "Calculation(Points,Centroid1,Centroid2,niteration)\n"
   ]
  },
  {
   "cell_type": "code",
   "execution_count": null,
   "metadata": {},
   "outputs": [],
   "source": []
  }
 ],
 "metadata": {
  "kernelspec": {
   "display_name": "Python 3",
   "language": "python",
   "name": "python3"
  },
  "language_info": {
   "codemirror_mode": {
    "name": "ipython",
    "version": 3
   },
   "file_extension": ".py",
   "mimetype": "text/x-python",
   "name": "python",
   "nbconvert_exporter": "python",
   "pygments_lexer": "ipython3",
   "version": "3.5.2"
  }
 },
 "nbformat": 4,
 "nbformat_minor": 2
}
