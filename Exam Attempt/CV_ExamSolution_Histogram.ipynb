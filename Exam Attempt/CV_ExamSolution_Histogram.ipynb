{
 "cells": [
  {
   "cell_type": "code",
   "execution_count": 1,
   "metadata": {},
   "outputs": [],
   "source": [
    "import numpy as np\n",
    "import operator\n",
    "\n",
    "def histogram_chisquare(d0,d1):\n",
    "    return sum(np.square(d0-d1)/(d0+d1))\n",
    "    \n",
    "def histogram_ssd(d0,d1):\n",
    "    return sum(np.absolute(d0-d1))\n",
    "\n",
    "def checkThresholdTop2(sortedOrder,threshold):\n",
    "    top0Label, top0Score = sortedOrder[0]\n",
    "    top1Label, top1Score = sortedOrder[1]\n",
    "    if top0Score < threshold*top1Score:\n",
    "        print(top0Label, ' is a good match, beats threshold requirement')\n",
    "    else:\n",
    "        print(top0Label, ' is NOT a good match, beats threshold requirement')\n",
    "\n",
    "\n",
    "        "
   ]
  },
  {
   "cell_type": "code",
   "execution_count": 6,
   "metadata": {},
   "outputs": [
    {
     "name": "stdout",
     "output_type": "stream",
     "text": [
      "SSD results: [('C', 0.2), ('A', 0.4), ('B', 0.6000000000000001)]\n",
      "C  is a good match, beats threshold requirement\n",
      "Chi Square results: [('C', 0.03428571428571429), ('A', 0.10900210900210902), ('B', 0.2633333333333334)]\n",
      "C  is a good match, beats threshold requirement\n"
     ]
    }
   ],
   "source": [
    "# Exam A\n",
    "Target = np.array([.1,.2,.3,.4])\n",
    "DataSetA = np.array([.25,.25,.25,.25])\n",
    "DataSetB = np.array([.20,.20,.40,.20])\n",
    "DataSetC = np.array([.10,.30,.30,.30])\n",
    "\n",
    "\n",
    "# Exam B\n",
    "Target = np.array([.1,.2,.3,.4])\n",
    "DataSet = dict()\n",
    "DataSet['A'] = np.array([.25,.25,.25,.25])\n",
    "DataSet['B'] = np.array([.20,.20,.50,.10])\n",
    "DataSet['C'] = np.array([.10,.30,.30,.30])\n",
    "\n",
    "# Sum of absolute differences \n",
    "compareInformation = dict()\n",
    "compareInformation['A'] = histogram_ssd(Target,DataSet['A'])\n",
    "compareInformation['B'] = histogram_ssd(Target,DataSet['B'])\n",
    "compareInformation['C'] = histogram_ssd(Target,DataSet['C'])\n",
    "\n",
    "sortedOrder = sorted(compareInformation.items(), key=operator.itemgetter(1))\n",
    "print ('SSD results:', sortedOrder)\n",
    "checkThresholdTop2(sortedOrder,.80)\n",
    "\n",
    "# Chi-square\n",
    "compareInformation = dict()\n",
    "compareInformation['A'] = histogram_chisquare(Target,DataSet['A'])\n",
    "compareInformation['B'] = histogram_chisquare(Target,DataSet['B'])\n",
    "compareInformation['C'] = histogram_chisquare(Target,DataSet['C'])\n",
    "\n",
    "sortedOrder = sorted(compareInformation.items(), key=operator.itemgetter(1))\n",
    "print ('Chi Square results:', sortedOrder)\n",
    "checkThresholdTop2(sortedOrder,.80)"
   ]
  },
  {
   "cell_type": "code",
   "execution_count": 7,
   "metadata": {},
   "outputs": [
    {
     "name": "stdout",
     "output_type": "stream",
     "text": [
      "[('C', 0.03428571428571429), ('A', 0.10900210900210902), ('B', 0.2633333333333334)]\n"
     ]
    }
   ],
   "source": [
    "print(sortedOrder\n",
    "    )"
   ]
  },
  {
   "cell_type": "code",
   "execution_count": 8,
   "metadata": {},
   "outputs": [
    {
     "name": "stdout",
     "output_type": "stream",
     "text": [
      "('C', 0.03428571428571429)\n"
     ]
    }
   ],
   "source": [
    "print(sortedOrder[0]\n",
    "      \n",
    "    )"
   ]
  },
  {
   "cell_type": "code",
   "execution_count": null,
   "metadata": {},
   "outputs": [],
   "source": []
  }
 ],
 "metadata": {
  "anaconda-cloud": {},
  "kernelspec": {
   "display_name": "Python 3",
   "language": "python",
   "name": "python3"
  },
  "language_info": {
   "codemirror_mode": {
    "name": "ipython",
    "version": 3
   },
   "file_extension": ".py",
   "mimetype": "text/x-python",
   "name": "python",
   "nbconvert_exporter": "python",
   "pygments_lexer": "ipython3",
   "version": "3.5.2"
  }
 },
 "nbformat": 4,
 "nbformat_minor": 1
}
