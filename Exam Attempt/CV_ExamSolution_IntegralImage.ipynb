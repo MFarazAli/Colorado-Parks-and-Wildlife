{
 "cells": [
  {
   "cell_type": "code",
   "execution_count": 1,
   "metadata": {},
   "outputs": [],
   "source": [
    "import numpy as np\n"
   ]
  },
  {
   "cell_type": "code",
   "execution_count": 2,
   "metadata": {},
   "outputs": [
    {
     "name": "stdout",
     "output_type": "stream",
     "text": [
      "[[1 3 2 1]\n",
      " [2 1 2 1]\n",
      " [1 1 1 1]\n",
      " [2 2 1 2]]\n",
      "[[ 1  4  6  7]\n",
      " [ 3  7 11 13]\n",
      " [ 4  9 14 17]\n",
      " [ 6 13 19 24]]\n"
     ]
    }
   ],
   "source": [
    "#basic\n",
    "imageData = np.array([[1,3,2,1],[2,1,2,1],[1,1,1,1],[2,2,1,2]])\n",
    "\n",
    "print(imageData)\n",
    "integralData= imageData.cumsum(axis=0).cumsum(axis=1)\n",
    "print (integralData)\n"
   ]
  },
  {
   "cell_type": "code",
   "execution_count": 3,
   "metadata": {},
   "outputs": [
    {
     "name": "stdout",
     "output_type": "stream",
     "text": [
      "5\n"
     ]
    }
   ],
   "source": [
    "#Access to area of boxes\n",
    "class SummedAreaTable(object):\n",
    "  def __init__(self, imageData):\n",
    "    self.imageData = imageData \n",
    "    self.generate()  \n",
    "\n",
    "  def getII(self, row, col):\n",
    "      return self.integralData[row,col]\n",
    "\n",
    "  def total(self, row0, col0, row1, col1):\n",
    "    \"\"\"\n",
    "    get the cummulative value of this instance from point (row0, col0) to (row1, col1)\n",
    "    \"\"\"\n",
    "    a = self.getII(row0 - 1, col0 - 1)\n",
    "    b = self.getII(row0 - 1, col1)\n",
    "    c = self.getII(row1, col0 - 1)\n",
    "    d = self.getII(row1, col1)\n",
    "    return d - b - c + a\n",
    "\n",
    "  def generate(self):    \n",
    "    self.integralData = self.imageData.cumsum(axis=0).cumsum(axis=1)\n",
    "    \n",
    "area = SummedAreaTable(imageData)  \n",
    "print (area.total(1, 1, 2, 2))"
   ]
  },
  {
   "cell_type": "code",
   "execution_count": null,
   "metadata": {},
   "outputs": [],
   "source": []
  }
 ],
 "metadata": {
  "anaconda-cloud": {},
  "kernelspec": {
   "display_name": "Python 3",
   "language": "python",
   "name": "python3"
  },
  "language_info": {
   "codemirror_mode": {
    "name": "ipython",
    "version": 3
   },
   "file_extension": ".py",
   "mimetype": "text/x-python",
   "name": "python",
   "nbconvert_exporter": "python",
   "pygments_lexer": "ipython3",
   "version": "3.5.2"
  }
 },
 "nbformat": 4,
 "nbformat_minor": 1
}
