{
 "cells": [
  {
   "cell_type": "markdown",
   "metadata": {},
   "source": [
    "Mohammed Faraz Ali\n",
    "Problem 2, 2D Convolution/image Pyramid [Part B]"
   ]
  },
  {
   "cell_type": "code",
   "execution_count": 55,
   "metadata": {},
   "outputs": [],
   "source": [
    "import numpy as np\n",
    "import operator\n",
    "import os\n",
    "import cv2\n",
    "import re\n",
    "import pylab as pl\n",
    "from fnmatch import fnmatch\n",
    "from IPython.core.display import Image\n",
    "import matplotlib.pyplot as plt\n",
    "from PIL import Image\n",
    "from scipy import ndimage"
   ]
  },
  {
   "cell_type": "code",
   "execution_count": 56,
   "metadata": {},
   "outputs": [],
   "source": [
    "a=np.array([[0,1,1,0,2,0,0,0],\n",
    "            [0,0,0,0,0,0,0,0],\n",
    "            [0,0,2,3,2,0,0,0],\n",
    "            [3,4,1,0,2,3,1,2],\n",
    "            [0,1,2,2,0,3,1,0],\n",
    "            [0,0,0,0,1,0,0,0],\n",
    "            [4,0,0,1,2,0,3,1],\n",
    "            [0,0,1,2,0,3,0,2]])\n",
    "kernel=np.array([[0,1,0],\n",
    "                 [1,0,1],\n",
    "                 [0,1,0]])"
   ]
  },
  {
   "cell_type": "code",
   "execution_count": 57,
   "metadata": {},
   "outputs": [
    {
     "data": {
      "text/plain": [
       "<matplotlib.image.AxesImage at 0x7fae98894518>"
      ]
     },
     "execution_count": 57,
     "metadata": {},
     "output_type": "execute_result"
    },
    {
     "data": {
      "image/png": "[encoded data removed]",
      "text/plain": [
       "<matplotlib.figure.Figure at 0x7fae988bd1d0>"
      ]
     },
     "metadata": {},
     "output_type": "display_data"
    }
   ],
   "source": [
    "#im = Image.fromarray(a)\n",
    "plt.imshow(a,cmap='gray')"
   ]
  },
  {
   "cell_type": "code",
   "execution_count": 58,
   "metadata": {},
   "outputs": [
    {
     "name": "stdout",
     "output_type": "stream",
     "text": [
      "The filtered matrix is \n",
      " [[1 1 1 3 0 2 0 0]\n",
      " [0 1 3 3 4 0 0 0]\n",
      " [3 6 4 4 5 5 1 2]\n",
      " [4 5 8 8 5 6 6 1]\n",
      " [4 6 4 2 8 4 4 3]\n",
      " [4 1 2 4 2 4 4 1]\n",
      " [0 4 2 4 2 8 1 5]\n",
      " [4 1 2 2 7 0 8 1]]\n",
      "\n",
      "The Sampled matrix is\n",
      " [[1 1 0 0]\n",
      " [3 4 5 1]\n",
      " [4 4 8 4]\n",
      " [0 2 2 1]]\n"
     ]
    }
   ],
   "source": [
    "b=ndimage.convolve(a, kernel, mode='constant', cval=0)\n",
    "downsample=b[::2,::2]\n",
    "print(\"The filtered matrix is \\n\",b)\n",
    "print(\"\\nThe Sampled matrix is\\n\",downsample)\n"
   ]
  },
  {
   "cell_type": "code",
   "execution_count": 59,
   "metadata": {},
   "outputs": [
    {
     "data": {
      "text/plain": [
       "<matplotlib.image.AxesImage at 0x7fae9884ac88>"
      ]
     },
     "execution_count": 59,
     "metadata": {},
     "output_type": "execute_result"
    },
    {
     "data": {
      "image/png": "[encoded data removed]",
      "text/plain": [
       "<matplotlib.figure.Figure at 0x7fae98887710>"
      ]
     },
     "metadata": {},
     "output_type": "display_data"
    }
   ],
   "source": [
    "plt.imshow(downsample,cmap='gray')"
   ]
  },
  {
   "cell_type": "code",
   "execution_count": null,
   "metadata": {},
   "outputs": [],
   "source": []
  }
 ],
 "metadata": {
  "kernelspec": {
   "display_name": "Python 3",
   "language": "python",
   "name": "python3"
  },
  "language_info": {
   "codemirror_mode": {
    "name": "ipython",
    "version": 3
   },
   "file_extension": ".py",
   "mimetype": "text/x-python",
   "name": "python",
   "nbconvert_exporter": "python",
   "pygments_lexer": "ipython3",
   "version": "3.5.2"
  }
 },
 "nbformat": 4,
 "nbformat_minor": 2
}
