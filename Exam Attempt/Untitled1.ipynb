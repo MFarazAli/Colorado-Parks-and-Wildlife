{
 "cells": [
  {
   "cell_type": "code",
   "execution_count": 33,
   "metadata": {},
   "outputs": [],
   "source": [
    "import numpy as np\n",
    "import operator\n",
    "import os\n",
    "import cv2\n",
    "import re\n",
    "import pylab as pl\n",
    "from fnmatch import fnmatch\n",
    "from IPython.core.display import Image\n",
    "import matplotlib.pyplot as plt"
   ]
  },
  {
   "cell_type": "code",
   "execution_count": 34,
   "metadata": {},
   "outputs": [
    {
     "name": "stdout",
     "output_type": "stream",
     "text": [
      "Distance of Centroid 1 with Points:   {'A': 0, 'B': 4, 'C': 2, 'D': 26}\n",
      "Distance of Centroid 2 with Points:   {'A': 4, 'B': 0, 'C': 2, 'D': 10}\n"
     ]
    }
   ],
   "source": [
    "Points=dict()\n",
    "Dist_Cent1_Points=dict()\n",
    "Dist_Cent2_Points=dict()\n",
    "\n",
    "Points['A'] = np.array([1,1])\n",
    "Points['B'] = np.array([3,1])\n",
    "Points['C'] = np.array([2,2])\n",
    "Points['D'] = np.array([6,0])\n",
    "Centroid1 = np.array([1,1])\n",
    "Centroid2 = np.array([3,1])\n",
    "\n",
    "Points = sorted(Points.items(), key=operator.itemgetter(0)) #Points will now be a list and not Dictionary\n",
    "\n",
    "for keys,Values in Points:\n",
    "    Dist_Cent1_Points[keys]= sum(np.square(Values-Centroid1))\n",
    "    Dist_Cent2_Points[keys]= sum(np.square(Values-Centroid2))\n",
    "print(\"Distance of Centroid 1 with Points:  \",Dist_Cent1_Points)\n",
    "print(\"Distance of Centroid 2 with Points:  \",Dist_Cent2_Points)\n",
    "\n"
   ]
  },
  {
   "cell_type": "code",
   "execution_count": 35,
   "metadata": {},
   "outputs": [],
   "source": [
    "Group1=[]\n",
    "Group2=[]\n",
    "for keys,Values in Points:\n",
    "    if Dist_Cent1_Points[keys]<Dist_Cent2_Points[keys]:\n",
    "        Group1.append(keys)\n",
    "    else:\n",
    "        Group2.append(keys)\n",
    "    "
   ]
  },
  {
   "cell_type": "code",
   "execution_count": 36,
   "metadata": {},
   "outputs": [
    {
     "name": "stdout",
     "output_type": "stream",
     "text": [
      "['A']\n"
     ]
    }
   ],
   "source": [
    "print(Group1)"
   ]
  },
  {
   "cell_type": "code",
   "execution_count": 37,
   "metadata": {},
   "outputs": [
    {
     "name": "stdout",
     "output_type": "stream",
     "text": [
      "['B', 'C', 'D']\n"
     ]
    }
   ],
   "source": [
    "print(Group2)"
   ]
  },
  {
   "cell_type": "code",
   "execution_count": 38,
   "metadata": {
    "scrolled": true
   },
   "outputs": [
    {
     "name": "stdout",
     "output_type": "stream",
     "text": [
      "[('A', array([1, 1])), ('B', array([3, 1])), ('C', array([2, 2])), ('D', array([6, 0]))]\n",
      "[1 1]\n"
     ]
    }
   ],
   "source": [
    "print(Points)\n",
    "print(Points[0][1])\n",
    "    \n",
    "    \n",
    "    \n",
    "    "
   ]
  },
  {
   "cell_type": "code",
   "execution_count": 39,
   "metadata": {},
   "outputs": [
    {
     "ename": "SyntaxError",
     "evalue": "invalid syntax (<ipython-input-39-6ac1fe3fc8bf>, line 4)",
     "output_type": "error",
     "traceback": [
      "\u001b[0;36m  File \u001b[0;32m\"<ipython-input-39-6ac1fe3fc8bf>\"\u001b[0;36m, line \u001b[0;32m4\u001b[0m\n\u001b[0;31m    s= Points[]+s\u001b[0m\n\u001b[0m              ^\u001b[0m\n\u001b[0;31mSyntaxError\u001b[0m\u001b[0;31m:\u001b[0m invalid syntax\n"
     ]
    }
   ],
   "source": [
    "s=np.array([0,0])\n",
    "    \n",
    "for keys in Group2:\n",
    "    s= Points[]+s\n",
    "newCentroid1=s/3"
   ]
  }
 ],
 "metadata": {
  "kernelspec": {
   "display_name": "Python 3",
   "language": "python",
   "name": "python3"
  },
  "language_info": {
   "codemirror_mode": {
    "name": "ipython",
    "version": 3
   },
   "file_extension": ".py",
   "mimetype": "text/x-python",
   "name": "python",
   "nbconvert_exporter": "python",
   "pygments_lexer": "ipython3",
   "version": "3.5.2"
  }
 },
 "nbformat": 4,
 "nbformat_minor": 2
}
