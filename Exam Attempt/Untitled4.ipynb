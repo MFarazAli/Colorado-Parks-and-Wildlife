{
 "cells": [
  {
   "cell_type": "code",
   "execution_count": 23,
   "metadata": {},
   "outputs": [],
   "source": [
    "import numpy as np\n",
    "import operator\n",
    "import os\n",
    "import cv2\n",
    "import re\n",
    "import pylab as pl\n",
    "from fnmatch import fnmatch\n",
    "from IPython.core.display import Image\n",
    "import matplotlib.pyplot as plt"
   ]
  },
  {
   "cell_type": "code",
   "execution_count": 24,
   "metadata": {},
   "outputs": [
    {
     "name": "stdout",
     "output_type": "stream",
     "text": [
      "Distance of Point F with Points:   {'B': (25, 'Bad'), 'A': (25, 'Good'), 'C': (5, 'Good'), 'E': (13, 'Bad'), 'D': (32, 'Good')}\n"
     ]
    }
   ],
   "source": [
    "Data=dict()\n",
    "Euc_Dist=dict()\n",
    "Data['A'] = (np.array([1,2]),'Good')\n",
    "Data['B'] = (np.array([2,9]),'Bad')\n",
    "Data['C'] = (np.array([6,3]),'Good')\n",
    "Data['D'] = (np.array([9,1]),'Good')\n",
    "Data['E'] = (np.array([3,2]),'Bad')\n",
    "DataF = np.array([5,5])\n",
    "\n",
    "for keys in Data:   #Points is Dictionary\n",
    "    Euc_Dist[keys]= (sum(np.square(Data[keys][0]-DataF)),Data[keys][1])\n",
    "print(\"Distance of Point F with Points:  \",Euc_Dist)"
   ]
  },
  {
   "cell_type": "code",
   "execution_count": 25,
   "metadata": {},
   "outputs": [
    {
     "name": "stdout",
     "output_type": "stream",
     "text": [
      "[[('C', (5, 'Good')), 1], [('E', (13, 'Bad')), 2], [('B', (25, 'Bad')), 3], [('A', (25, 'Good')), 4], [('D', (32, 'Good')), 5]]\n"
     ]
    }
   ],
   "source": [
    "Rank=[]\n",
    "new=[]\n",
    "for i in range(len(Euc_Dist)):\n",
    "    Rank.append(i+1)\n",
    "Euc_Dist = sorted(Euc_Dist.items(), key=operator.itemgetter(1))\n",
    "for a, b in zip(Euc_Dist, Rank):\n",
    "    new.append([a, b])\n",
    "print(new)"
   ]
  },
  {
   "cell_type": "code",
   "execution_count": 43,
   "metadata": {},
   "outputs": [
    {
     "name": "stdout",
     "output_type": "stream",
     "text": [
      "1\n",
      "2\n",
      "Classification for K=3 is Bad\n"
     ]
    }
   ],
   "source": [
    "\n",
    "# Data is Dictionary\n",
    "#Eucledian Distance is List\n",
    "k=3\n",
    "g=0\n",
    "b=0\n",
    "for i in range(k):\n",
    "    if new[i][0][1][1]=='Good':\n",
    "        g=g+1\n",
    "    else:\n",
    "        b=b+1\n",
    "print(g)\n",
    "print(b)\n",
    "if g>b:\n",
    "    print(\"Classification for K=%s is Good\" %k)\n",
    "elif b>g:\n",
    "    print(\"Classification for K=%s is Bad\" %k)\n",
    "else:\n",
    "    print(\"No Classification\")\n",
    "    \n",
    "    "
   ]
  },
  {
   "cell_type": "code",
   "execution_count": null,
   "metadata": {},
   "outputs": [],
   "source": []
  }
 ],
 "metadata": {
  "kernelspec": {
   "display_name": "Python 3",
   "language": "python",
   "name": "python3"
  },
  "language_info": {
   "codemirror_mode": {
    "name": "ipython",
    "version": 3
   },
   "file_extension": ".py",
   "mimetype": "text/x-python",
   "name": "python",
   "nbconvert_exporter": "python",
   "pygments_lexer": "ipython3",
   "version": "3.5.2"
  }
 },
 "nbformat": 4,
 "nbformat_minor": 2
}
