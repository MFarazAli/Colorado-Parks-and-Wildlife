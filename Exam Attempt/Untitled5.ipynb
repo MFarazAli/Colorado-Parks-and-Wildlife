{
 "cells": [
  {
   "cell_type": "code",
   "execution_count": 1,
   "metadata": {},
   "outputs": [],
   "source": [
    "import numpy as np\n",
    "import operator\n",
    "import os\n",
    "import cv2\n",
    "import re\n",
    "import pylab as pl\n",
    "from fnmatch import fnmatch\n",
    "from IPython.core.display import Image\n",
    "import matplotlib.pyplot as plt\n",
    "from PIL import Image"
   ]
  },
  {
   "cell_type": "code",
   "execution_count": 5,
   "metadata": {},
   "outputs": [],
   "source": [
    "a=np.array([[0,1,1,0,2,0,0,0],\n",
    "            [0,0,0,0,0,0,0,0],\n",
    "            [0,0,2,3,2,0,0,0],\n",
    "            [3,4,1,0,2,3,1,2],\n",
    "            [0,1,2,2,0,3,1,0],\n",
    "            [0,0,0,0,1,0,0,0],\n",
    "            [4,0,0,1,2,0,3,1],\n",
    "            [0,0,1,2,0,3,0,2]])\n",
    "kernel=np.array([[0,1,0],\n",
    "                 [1,0,1],\n",
    "                 [0,1,0]])"
   ]
  },
  {
   "cell_type": "code",
   "execution_count": 7,
   "metadata": {},
   "outputs": [
    {
     "name": "stdout",
     "output_type": "stream",
     "text": [
      "[[0 1 1 0 2 0 0 0]\n",
      " [0 0 0 0 0 0 0 0]\n",
      " [0 0 2 3 2 0 0 0]\n",
      " [3 4 1 0 2 3 1 2]\n",
      " [0 1 2 2 0 3 1 0]\n",
      " [0 0 0 0 1 0 0 0]\n",
      " [4 0 0 1 2 0 3 1]\n",
      " [0 0 1 2 0 3 0 2]]\n",
      "\n",
      " [[0 1 0]\n",
      " [1 0 1]\n",
      " [0 1 0]]\n"
     ]
    }
   ],
   "source": [
    "print(a)\n",
    "print(\"\\n\",kernel)"
   ]
  },
  {
   "cell_type": "code",
   "execution_count": 10,
   "metadata": {},
   "outputs": [
    {
     "name": "stdout",
     "output_type": "stream",
     "text": [
      "1\n"
     ]
    }
   ],
   "source": [
    "print(kernel[0][1])"
   ]
  },
  {
   "cell_type": "code",
   "execution_count": 12,
   "metadata": {},
   "outputs": [
    {
     "name": "stdout",
     "output_type": "stream",
     "text": [
      "[[0 1 2 0]\n",
      " [0 2 2 0]\n",
      " [0 2 0 1]\n",
      " [4 0 2 3]]\n"
     ]
    }
   ],
   "source": [
    "downsample=a[::2,::2]\n",
    "print(downsample)"
   ]
  },
  {
   "cell_type": "code",
   "execution_count": 13,
   "metadata": {},
   "outputs": [
    {
     "data": {
      "text/plain": [
       "array([[1, 2, 2, 3, 2, 2, 0, 0],\n",
       "       [0, 1, 3, 3, 4, 0, 0, 0],\n",
       "       [3, 6, 4, 4, 5, 5, 1, 2],\n",
       "       [7, 5, 8, 8, 5, 6, 6, 3],\n",
       "       [4, 6, 4, 2, 8, 4, 4, 3],\n",
       "       [4, 1, 2, 4, 2, 4, 4, 1],\n",
       "       [4, 4, 2, 4, 2, 8, 1, 6],\n",
       "       [4, 1, 3, 4, 7, 3, 8, 5]])"
      ]
     },
     "execution_count": 13,
     "metadata": {},
     "output_type": "execute_result"
    }
   ],
   "source": [
    "from scipy.ndimage import convolve\n",
    "convolve(a, kernel)"
   ]
  },
  {
   "cell_type": "code",
   "execution_count": null,
   "metadata": {},
   "outputs": [],
   "source": []
  }
 ],
 "metadata": {
  "kernelspec": {
   "display_name": "Python 3",
   "language": "python",
   "name": "python3"
  },
  "language_info": {
   "codemirror_mode": {
    "name": "ipython",
    "version": 3
   },
   "file_extension": ".py",
   "mimetype": "text/x-python",
   "name": "python",
   "nbconvert_exporter": "python",
   "pygments_lexer": "ipython3",
   "version": "3.5.2"
  }
 },
 "nbformat": 4,
 "nbformat_minor": 2
}
