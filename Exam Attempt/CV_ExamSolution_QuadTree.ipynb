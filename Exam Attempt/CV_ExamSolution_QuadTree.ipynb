{
 "cells": [
  {
   "cell_type": "code",
   "execution_count": 1,
   "metadata": {
    "collapsed": false
   },
   "outputs": [
    {
     "name": "stdout",
     "output_type": "stream",
     "text": [
      "Populating the interactive namespace from numpy and matplotlib\n"
     ]
    }
   ],
   "source": [
    "#! /usr/bin/env Python\n",
    "%pylab inline"
   ]
  },
  {
   "cell_type": "code",
   "execution_count": 2,
   "metadata": {
    "collapsed": true
   },
   "outputs": [],
   "source": [
    "# import libraries\n",
    "import numpy as np\n",
    "from matplotlib import pyplot as plt"
   ]
  },
  {
   "cell_type": "code",
   "execution_count": 3,
   "metadata": {
    "collapsed": true
   },
   "outputs": [],
   "source": [
    "# Create a QuadTree class to recursively subdivide the space into quadrants:\n",
    "class QuadTree:\n",
    "    \"\"\"Simple Quad-tree class\"\"\"\n",
    "\n",
    "    # class initialization function\n",
    "    def __init__(self, data, mins, maxs, depth=3):\n",
    "        self.data = np.asarray(data)\n",
    "\n",
    "        # data should be two-dimensional\n",
    "        assert self.data.shape[1] == 2\n",
    "\n",
    "        if mins is None: \n",
    "            mins = data.min(0)\n",
    "        if maxs is None:\n",
    "            maxs = data.max(0)\n",
    "\n",
    "        self.mins = np.asarray(mins)\n",
    "        self.maxs = np.asarray(maxs)\n",
    "        self.sizes = self.maxs - self.mins\n",
    "\n",
    "        self.children = []\n",
    "\n",
    "        mids = 0.5 * (self.mins + self.maxs)\n",
    "        xmin, ymin = self.mins\n",
    "        xmax, ymax = self.maxs\n",
    "        xmid, ymid = mids\n",
    "\n",
    "        if depth > 0:\n",
    "            # split the data into four quadrants\n",
    "            data_q1 = data[(data[:, 0] < mids[0]) & (data[:, 1] < mids[1])]\n",
    "            data_q2 = data[(data[:, 0] < mids[0]) & (data[:, 1] >= mids[1])]\n",
    "            data_q3 = data[(data[:, 0] >= mids[0]) & (data[:, 1] < mids[1])]\n",
    "            data_q4 = data[(data[:, 0] >= mids[0]) & (data[:, 1] >= mids[1])]\n",
    "\n",
    "            # recursively build a quad tree on each quadrant which has data\n",
    "            if data_q1.shape[0] > 0:\n",
    "                self.children.append(QuadTree(data_q1,\n",
    "                                              [xmin, ymin], [xmid, ymid],\n",
    "                                              depth - 1))\n",
    "            if data_q2.shape[0] > 0:\n",
    "                self.children.append(QuadTree(data_q2,\n",
    "                                              [xmin, ymid], [xmid, ymax],\n",
    "                                              depth - 1))\n",
    "            if data_q3.shape[0] > 0:\n",
    "                self.children.append(QuadTree(data_q3,\n",
    "                                              [xmid, ymin], [xmax, ymid],\n",
    "                                              depth - 1))\n",
    "            if data_q4.shape[0] > 0:\n",
    "                self.children.append(QuadTree(data_q4,\n",
    "                                              [xmid, ymid], [xmax, ymax],\n",
    "                                              depth - 1))\n",
    "\n",
    "    def draw_rectangle(self, ax, depth):\n",
    "        \"\"\"Recursively plot a visualization of the quad tree region\"\"\"\n",
    "        if depth is None or depth == 0:\n",
    "            rect = plt.Rectangle(self.mins, *self.sizes, zorder=2,\n",
    "                                 ec='#000000', fc='none')\n",
    "            ax.add_patch(rect)\n",
    "        if depth is None or depth > 0:\n",
    "            for child in self.children:\n",
    "                child.draw_rectangle(ax, depth - 1)\n",
    "\n",
    "\n",
    "def draw_grid(ax, xlim, ylim, Nx, Ny, **kwargs):\n",
    "    \"\"\" draw a background grid for the quad tree\"\"\"\n",
    "    for x in np.linspace(xlim[0], xlim[1], Nx):\n",
    "        ax.plot([x, x], ylim, **kwargs)\n",
    "    for y in np.linspace(ylim[0], ylim[1], Ny):\n",
    "        ax.plot(xlim, [y, y], **kwargs)"
   ]
  },
  {
   "cell_type": "code",
   "execution_count": 4,
   "metadata": {
    "collapsed": true
   },
   "outputs": [],
   "source": [
    "# Create a set of structured random points in two dimensions:\n",
    "\n",
    "np.random.seed(0)\n",
    "\n",
    "X = np.random.random((30, 2)) * 2 - 1\n",
    "X[:, 1] *= 0.1\n",
    "X[:, 1] += X[:, 0] ** 2"
   ]
  },
  {
   "cell_type": "code",
   "execution_count": 5,
   "metadata": {
    "collapsed": true
   },
   "outputs": [],
   "source": [
    "#  Use the Quad Tree class to recursively divide the space:\n",
    "    \n",
    "mins = (-1.1, -0.1)\n",
    "maxs = (1.1, 1.1)\n",
    "QT = QuadTree(X, mins, maxs, depth=7)"
   ]
  },
  {
   "cell_type": "code",
   "execution_count": 9,
   "metadata": {
    "collapsed": false
   },
   "outputs": [
    {
     "data": {
      "image/png": "[encoded data removed]",
      "text/plain": [
       "<matplotlib.figure.Figure at 0x10d54c4a8>"
      ]
     },
     "metadata": {},
     "output_type": "display_data"
    }
   ],
   "source": [
    "# Plot four different levels of the quad tree:\n",
    "\n",
    "fig = plt.figure(figsize=(5, 5))\n",
    "fig.subplots_adjust(wspace=0.1, hspace=0.15,\n",
    "                    left=0.1, right=0.9,\n",
    "                    bottom=0.05, top=0.9)\n",
    "\n",
    "for level in range(1, 7):\n",
    "    ax = fig.add_subplot(3, 3, level, xticks=[], yticks=[])\n",
    "    ax.scatter(X[:, 0], X[:, 1])\n",
    "    QT.draw_rectangle(ax, depth=level - 1)\n",
    "\n",
    "    Nlines = 1 + 2 ** (level - 1)\n",
    "    draw_grid(ax, (mins[0], maxs[0]), (mins[1], maxs[1]),\n",
    "              Nlines, Nlines, linewidth=1,\n",
    "              color='#CCCCCC', zorder=0)\n",
    "\n",
    "    ax.set_xlim(-1.2, 1.2)\n",
    "    ax.set_ylim(-0.15, 1.15)\n",
    "    ax.set_title('level %i' % (level-1))\n",
    "\n",
    "# suptitle() adds a title to the entire figure\n",
    "fig.suptitle('Quad-tree Example')\n",
    "plt.show()\n"
   ]
  },
  {
   "cell_type": "code",
   "execution_count": null,
   "metadata": {
    "collapsed": true
   },
   "outputs": [],
   "source": []
  }
 ],
 "metadata": {
  "anaconda-cloud": {},
  "kernelspec": {
   "display_name": "Python [conda env:anaconda]",
   "language": "python",
   "name": "conda-env-anaconda-py"
  },
  "language_info": {
   "codemirror_mode": {
    "name": "ipython",
    "version": 3
   },
   "file_extension": ".py",
   "mimetype": "text/x-python",
   "name": "python",
   "nbconvert_exporter": "python",
   "pygments_lexer": "ipython3",
   "version": "3.5.2"
  }
 },
 "nbformat": 4,
 "nbformat_minor": 0
}
