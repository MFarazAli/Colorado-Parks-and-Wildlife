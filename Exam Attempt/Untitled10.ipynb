{
 "cells": [
  {
   "cell_type": "code",
   "execution_count": 6,
   "metadata": {},
   "outputs": [],
   "source": [
    "import numpy as np\n",
    "import operator\n",
    "import os\n",
    "import cv2\n",
    "import re\n",
    "import pylab as pl\n",
    "from fnmatch import fnmatch\n",
    "from IPython.core.display import Image\n",
    "import matplotlib.pyplot as plt\n",
    "from PIL import Image\n",
    "from scipy import ndimage"
   ]
  },
  {
   "cell_type": "code",
   "execution_count": 7,
   "metadata": {},
   "outputs": [
    {
     "name": "stdout",
     "output_type": "stream",
     "text": [
      "(180, 100)\n",
      "[180 100]\n",
      "[ 0 10]\n"
     ]
    },
    {
     "data": {
      "image/png": "[encoded data removed]",
      "text/plain": [
       "<matplotlib.figure.Figure at 0x7f01736f0390>"
      ]
     },
     "metadata": {},
     "output_type": "display_data"
    }
   ],
   "source": [
    "img = np.ones((512,512,3), np.uint8)\n",
    "img=img*255\n",
    "plt.imshow(img)\n",
    "Points=dict()\n",
    "Points['1']=(np.array([180,100]),(255,0,0),1)    #Location,Color,Weight\n",
    "Points['2']=(np.array([100,200]),(255,0,0),1)\n",
    "Points['3']=(np.array([300,150]),(255,0,0),1)\n",
    "Points['4']=(np.array([350,50]),(0,0,255),1)\n",
    "Points['5']=(np.array([400,200]),(0,0,255),1)\n",
    "Points['6']=(np.array([280,300]),(0,0,250),1)\n",
    "Points['7']=(np.array([200,400]),(255,0,0),1)\n",
    "Points['8']=(np.array([300,420]),(0,0,255),1)\n",
    "Points['9']=(np.array([370,320]),(0,0,255),1)\n",
    "\n",
    "\n",
    "A1=np.array([0,10])\n",
    "A2=np.array([500,350])\n",
    "\n",
    "B1=np.array([240,1])\n",
    "B2=np.array([240,500])\n",
    "\n",
    "C1=np.array([10,250])\n",
    "C2=np.array([500,250])\n",
    "\n",
    "D1=np.array([10,300])\n",
    "D2=np.array([500,125])\n",
    "\n",
    "thresh=np.array([10,10])\n",
    "\n",
    "Lines=dict()\n",
    "Lines['A']=(A1,A2)\n",
    "#Lines['B']=(B1,B2)\n",
    "Lines['C']=(C1,C2)\n",
    "Lines['D']=(D1,D2)\n",
    "\n",
    "print(tuple(Points['1'][0]))\n",
    "print(Points['1'][0])\n",
    "print(Lines['A'][0])  #Gives A1"
   ]
  },
  {
   "cell_type": "code",
   "execution_count": 8,
   "metadata": {},
   "outputs": [
    {
     "data": {
      "text/plain": [
       "<matplotlib.image.AxesImage at 0x7f01736b0e80>"
      ]
     },
     "execution_count": 8,
     "metadata": {},
     "output_type": "execute_result"
    },
    {
     "data": {
      "image/png": "[encoded data removed]",
      "text/plain": [
       "<matplotlib.figure.Figure at 0x7f01736c3a58>"
      ]
     },
     "metadata": {},
     "output_type": "display_data"
    }
   ],
   "source": [
    "\n",
    "font = cv2.FONT_HERSHEY_SIMPLEX\n",
    "\n",
    "for keys in Points:\n",
    "    img = cv2.circle(img,tuple(Points[keys][0]), 20, Points[keys][1], -1)\n",
    "    cv2.putText(img,keys,tuple(Points[keys][0]), font, 1,(0,0,0),2,cv2.LINE_AA)\n",
    "    \n",
    "    \n",
    "for keys in Lines:\n",
    "    img = cv2.line(img,tuple(Lines[keys][0]),tuple(Lines[keys][1]),(0,0,0),3)\n",
    "    cv2.putText(img,keys,tuple(Lines[keys][1]-thresh), font, 1,(0,0,0),2,cv2.LINE_AA)\n",
    "\n",
    "\n",
    "plt.imshow(img)"
   ]
  },
  {
   "cell_type": "code",
   "execution_count": 18,
   "metadata": {},
   "outputs": [
    {
     "name": "stdout",
     "output_type": "stream",
     "text": [
      "BELOW LINE A is BLUE\n",
      "\n",
      "Point 4 lies Above line A\n",
      "And since it is BLUE, This is Error\n",
      "\n",
      "\n",
      "Point 3 lies Above line A\n",
      "Point 2 lies Below line A\n",
      "And since it is RED, This is Error\n",
      "\n",
      "\n",
      "Point 6 lies Below line A\n",
      "Point 8 lies Below line A\n",
      "Point 1 lies Above line A\n",
      "Point 9 lies Below line A\n",
      "Point 5 lies Above line A\n",
      "And since it is BLUE, This is Error\n",
      "\n",
      "\n",
      "Point 7 lies Below line A\n",
      "And since it is RED, This is Error\n",
      "\n",
      "\n",
      "Total error for Classisfier A is 4\n",
      "BELOW LINE C is BLUE\n",
      "\n",
      "Point 4 lies Above line C\n",
      "And since it is BLUE, This is Error\n",
      "\n",
      "\n",
      "Point 3 lies Above line C\n",
      "Point 2 lies Above line C\n",
      "Point 6 lies Below line C\n",
      "Point 8 lies Below line C\n",
      "Point 1 lies Above line C\n",
      "Point 9 lies Below line C\n",
      "Point 5 lies Above line C\n",
      "And since it is BLUE, This is Error\n",
      "\n",
      "\n",
      "Point 7 lies Below line C\n",
      "And since it is RED, This is Error\n",
      "\n",
      "\n",
      "Total error for Classisfier C is 3\n",
      "BELOW LINE D is BLUE\n",
      "\n",
      "Point 4 lies Above line D\n",
      "And since it is BLUE, This is Error\n",
      "\n",
      "\n",
      "Point 3 lies Above line D\n",
      "Point 2 lies Above line D\n",
      "Point 6 lies Below line D\n",
      "Point 8 lies Below line D\n",
      "Point 1 lies Above line D\n",
      "Point 9 lies Below line D\n",
      "Point 5 lies Below line D\n",
      "Point 7 lies Below line D\n",
      "And since it is RED, This is Error\n",
      "\n",
      "\n",
      "Total error for Classisfier D is 2\n",
      "Right of LINE B is BLUE\n",
      "\n",
      "Point 4 lies Right line B\n",
      "Point 3 lies Right line B\n",
      "And since it is RED, This Error\n",
      "\n",
      "\n",
      "Point 2 lies Left line B\n",
      "Point 6 lies Right line B\n",
      "Point 8 lies Right line B\n",
      "Point 1 lies Left line B\n",
      "Point 9 lies Right line B\n",
      "Point 5 lies Right line B\n",
      "Point 7 lies Left line B\n",
      "Total error for Classisfier B is  1\n"
     ]
    }
   ],
   "source": [
    "e=[0,0,0,0]\n",
    "i=0\n",
    "for akeys in Lines:\n",
    "    \n",
    "    print(\"BELOW LINE %s is BLUE\\n\" %akeys)\n",
    "    for keys in Points:\n",
    "        if np.cross(Points[keys][0]-Lines[akeys][0], Lines[akeys][1]-Lines[akeys][0]) < 0:\n",
    "            print(\"Point %s lies Below line %s\" %(keys,akeys))\n",
    "            if Points[keys][1]==(255,0,0):  #is RED\n",
    "                print(\"And since it is RED, This is Error\")#Then Increase its weight\n",
    "                print(\"\\n\")\n",
    "                e[i]=e[i]+Points[keys][2]\n",
    "        else:\n",
    "            print(\"Point %s lies Above line %s\" %(keys,akeys))\n",
    "            if Points[keys][1]==(0,0,255):\n",
    "                print(\"And since it is BLUE, This is Error\")#Then Increase its weight\n",
    "                print(\"\\n\")\n",
    "                e[i]=e[i]+Points[keys][2]\n",
    "    print(\"Total error for Classisfier %s is %d\"%(akeys,e[i]))\n",
    "    i+=1\n",
    "    \n",
    "                \n",
    "                \n",
    "print(\"Right of LINE B is BLUE\\n\")\n",
    "for keys in Points:\n",
    "    if np.cross(Points[keys][0]-B1, B2-B1) < 0:\n",
    "        print(\"Point %s lies Left line B\" %keys)\n",
    "        if Points[keys][1]==(0,0,255):#is BLUE\n",
    "            print(\"And since it is BLUE, This is Error\")#Then Increase its weight\n",
    "            print(\"\\n\")\n",
    "            e[3]=e[3]+Points[keys][2]\n",
    "    else:\n",
    "        print(\"Point %s lies Right line B\" %keys)\n",
    "        if Points[keys][1]==(255,0,0):#is RED\n",
    "            print(\"And since it is RED, This Error\")#Then Increase its weight\n",
    "            print(\"\\n\")\n",
    "            e[3]=e[3]+Points[keys][2]\n",
    "print(\"Total error for Classisfier B is \",e[3])\n"
   ]
  },
  {
   "cell_type": "code",
   "execution_count": 22,
   "metadata": {},
   "outputs": [
    {
     "data": {
      "text/plain": [
       "3"
      ]
     },
     "execution_count": 22,
     "metadata": {},
     "output_type": "execute_result"
    }
   ],
   "source": [
    "min(e)\n",
    "np.argmin(e)\n",
    "#np.argmin(score)"
   ]
  },
  {
   "cell_type": "code",
   "execution_count": 33,
   "metadata": {},
   "outputs": [
    {
     "name": "stdout",
     "output_type": "stream",
     "text": [
      "{'A': (array([ 0, 10]), array([500, 350])), 'C': (array([ 10, 250]), array([500, 250])), 'D': (array([ 10, 300]), array([500, 125])), 'B': (array([240,   1]), array([240, 500]))}\n"
     ]
    }
   ],
   "source": [
    "Lines['B']=(B1,B2)\n",
    "print(Lines\n",
    "    )"
   ]
  },
  {
   "cell_type": "code",
   "execution_count": 34,
   "metadata": {},
   "outputs": [
    {
     "name": "stdout",
     "output_type": "stream",
     "text": [
      "{'A': (array([ 0, 10]), array([500, 350])), 'C': (array([ 10, 250]), array([500, 250])), 'D': (array([ 10, 300]), array([500, 125]))}\n"
     ]
    }
   ],
   "source": [
    "del Lines['B']\n",
    "print(Lines\n",
    "    )"
   ]
  },
  {
   "cell_type": "code",
   "execution_count": null,
   "metadata": {},
   "outputs": [],
   "source": []
  }
 ],
 "metadata": {
  "kernelspec": {
   "display_name": "Python 3",
   "language": "python",
   "name": "python3"
  },
  "language_info": {
   "codemirror_mode": {
    "name": "ipython",
    "version": 3
   },
   "file_extension": ".py",
   "mimetype": "text/x-python",
   "name": "python",
   "nbconvert_exporter": "python",
   "pygments_lexer": "ipython3",
   "version": "3.5.2"
  }
 },
 "nbformat": 4,
 "nbformat_minor": 2
}
