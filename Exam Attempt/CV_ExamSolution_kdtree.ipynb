{
 "cells": [
  {
   "cell_type": "code",
   "execution_count": 7,
   "metadata": {},
   "outputs": [
    {
     "name": "stdout",
     "output_type": "stream",
     "text": [
      "Populating the interactive namespace from numpy and matplotlib\n"
     ]
    }
   ],
   "source": [
    "#! /usr/bin/env Python\n",
    "\n",
    "%pylab inline"
   ]
  },
  {
   "cell_type": "code",
   "execution_count": 8,
   "metadata": {
    "collapsed": true
   },
   "outputs": [],
   "source": [
    "# import libraries:\n",
    "\n",
    "from collections import namedtuple\n",
    "from operator import itemgetter\n",
    "from pprint import pformat"
   ]
  },
  {
   "cell_type": "code",
   "execution_count": 9,
   "metadata": {},
   "outputs": [
    {
     "name": "stdout",
     "output_type": "stream",
     "text": [
      "((7, 0),\n",
      " ((5, 4), ((2, 3), ((2, 2), None, None), None), ((4, 7), None, None)),\n",
      " ((9, 6), ((8, 1), ((7, 2), None, None), None), ((9, 9), None, None)))\n"
     ]
    }
   ],
   "source": [
    "# Create class and definitions:\n",
    "\n",
    "class Node(namedtuple('Node', 'location left_child right_child')):\n",
    "    def __repr__(self):\n",
    "        return pformat(tuple(self))\n",
    "\n",
    "def kdtree(point_list, depth=0):\n",
    "    try:\n",
    "        k = len(point_list[0]) # assumes all points have the same dimension\n",
    "    except IndexError as e: # if not point_list:\n",
    "        return None\n",
    "    # Select axis based on depth so that axis cycles through all valid values\n",
    "    axis = depth % k\n",
    " \n",
    "    # Sort point list and choose median as pivot element\n",
    "    point_list.sort(key=itemgetter(axis))\n",
    "    median = len(point_list) // 2 # choose median\n",
    " \n",
    "    # Create node and construct subtrees\n",
    "    return Node(\n",
    "        location=point_list[median],\n",
    "        left_child=kdtree(point_list[:median], depth + 1),\n",
    "        right_child=kdtree(point_list[median + 1:], depth + 1)\n",
    "    )\n",
    "\n",
    "def main():\n",
    "    \"\"\"Example usage\"\"\"\n",
    "    point_list = [(9,9), (2,2), (7,0), (2,3), (5,4), (9,6), (4,7), (8,1), (7,2)]\n",
    "    tree = kdtree(point_list)\n",
    "    print(tree)\n",
    "\n",
    "if __name__ == '__main__':\n",
    "    main()\n"
   ]
  },
  {
   "cell_type": "code",
   "execution_count": null,
   "metadata": {
    "collapsed": true
   },
   "outputs": [],
   "source": []
  }
 ],
 "metadata": {
  "anaconda-cloud": {},
  "kernelspec": {
   "display_name": "Python 3",
   "language": "python",
   "name": "python3"
  },
  "language_info": {
   "codemirror_mode": {
    "name": "ipython",
    "version": 3
   },
   "file_extension": ".py",
   "mimetype": "text/x-python",
   "name": "python",
   "nbconvert_exporter": "python",
   "pygments_lexer": "ipython3",
   "version": "3.5.2"
  }
 },
 "nbformat": 4,
 "nbformat_minor": 1
}
