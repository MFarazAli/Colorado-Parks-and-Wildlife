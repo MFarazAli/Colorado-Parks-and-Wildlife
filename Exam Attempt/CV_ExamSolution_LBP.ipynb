{
 "cells": [
  {
   "cell_type": "code",
   "execution_count": 1,
   "metadata": {
    "collapsed": true
   },
   "outputs": [],
   "source": [
    "import numpy as np"
   ]
  },
  {
   "cell_type": "code",
   "execution_count": 3,
   "metadata": {
    "collapsed": false
   },
   "outputs": [
    {
     "name": "stdout",
     "output_type": "stream",
     "text": [
      "17\n"
     ]
    }
   ],
   "source": [
    "\n",
    "imageData = np.array([[1,2,3],[9,5,6],[5,3,1]])\n",
    "\n",
    "# Compare this pixel to its neighbors, starting at the top-left pixel and moving\n",
    "# clockwise, and use bit operations to efficiently update the feature vector\n",
    "pixel = imageData[1][1]\n",
    "            \n",
    "pattern = 0\n",
    "pattern = pattern | (1 << 7) if pixel < imageData[0][0] else pattern\n",
    "pattern = pattern | (1 << 6) if pixel < imageData[0][1] else pattern\n",
    "pattern = pattern | (1 << 5) if pixel < imageData[0][2] else pattern\n",
    "pattern = pattern | (1 << 4) if pixel < imageData[1][2] else pattern\n",
    "pattern = pattern | (1 << 3) if pixel < imageData[2][2] else pattern\n",
    "pattern = pattern | (1 << 2) if pixel < imageData[2][1] else pattern\n",
    "pattern = pattern | (1 << 1) if pixel < imageData[2][0] else pattern\n",
    "pattern = pattern | (1 << 0) if pixel < imageData[1][0] else pattern\n",
    "\n",
    "print (pattern)\n",
    "\n",
    "def print_LBP_Pattern_3x3(imageData):\n",
    "    pixel = imageData[1][1]\n",
    "            \n",
    "    pattern = 0\n",
    "    pattern = pattern | (1 << 7) if pixel < imageData[0][0] else pattern\n",
    "    pattern = pattern | (1 << 6) if pixel < imageData[0][1] else pattern\n",
    "    pattern = pattern | (1 << 5) if pixel < imageData[0][2] else pattern\n",
    "    pattern = pattern | (1 << 4) if pixel < imageData[1][2] else pattern\n",
    "    pattern = pattern | (1 << 3) if pixel < imageData[2][2] else pattern\n",
    "    pattern = pattern | (1 << 2) if pixel < imageData[2][1] else pattern\n",
    "    pattern = pattern | (1 << 1) if pixel < imageData[2][0] else pattern\n",
    "    pattern = pattern | (1 << 0) if pixel < imageData[1][0] else pattern\n",
    "    return pattern\n",
    "    \n"
   ]
  },
  {
   "cell_type": "code",
   "execution_count": 7,
   "metadata": {
    "collapsed": false
   },
   "outputs": [
    {
     "name": "stdout",
     "output_type": "stream",
     "text": [
      "[[ 1.  1.  1.]\n",
      " [ 1.  0.  1.]\n",
      " [ 0.  0.  0.]]\n"
     ]
    }
   ],
   "source": [
    "# Give an example of input data that generates a LBP value of 241\n",
    "imageData = np.zeros((3,3))\n",
    "pattern = 241\n",
    "imageData[0][0] = 1 if pattern & (1<<7) else 0\n",
    "imageData[0][1] = 1 if pattern & (1<<6) else 0\n",
    "imageData[0][2] = 1 if pattern & (1<<5) else 0\n",
    "imageData[1][2] = 1 if pattern & (1<<4) else 0\n",
    "imageData[2][2] = 1 if pattern & (1<<3) else 0\n",
    "imageData[2][1] = 1 if pattern & (1<<2) else 0\n",
    "imageData[2][0] = 1 if pattern & (1<<1) else 0\n",
    "imageData[1][0] = 1 if pattern & (1<<0) else 0\n",
    "                   \n",
    "# Center - Set to zero\n",
    "imageData[1][1] = 0      \n",
    "print (imageData)\n",
    "           \n",
    "    \n",
    "def printImageLBP_Pattern3x3(pattern):\n",
    "    imageData = np.zeros((3,3))\n",
    "    imageData[0][0] = 1 if pattern & (1<<7) else 0\n",
    "    imageData[0][1] = 1 if pattern & (1<<6) else 0\n",
    "    imageData[0][2] = 1 if pattern & (1<<5) else 0\n",
    "    imageData[1][2] = 1 if pattern & (1<<4) else 0\n",
    "    imageData[2][2] = 1 if pattern & (1<<3) else 0\n",
    "    imageData[2][1] = 1 if pattern & (1<<2) else 0\n",
    "    imageData[2][0] = 1 if pattern & (1<<1) else 0\n",
    "    imageData[1][0] = 1 if pattern & (1<<0) else 0\n",
    "                   \n",
    "    # Center - Set to zero\n",
    "    imageData[1][1] = 0      \n",
    "    return imageData"
   ]
  },
  {
   "cell_type": "code",
   "execution_count": 8,
   "metadata": {
    "collapsed": false
   },
   "outputs": [
    {
     "name": "stdout",
     "output_type": "stream",
     "text": [
      "17\n",
      "[[ 1.  1.  1.]\n",
      " [ 1.  0.  1.]\n",
      " [ 0.  0.  0.]]\n"
     ]
    }
   ],
   "source": [
    "imageData = np.array([[1,2,3],[9,5,6],[5,3,1]])\n",
    "\n",
    "print(print_LBP_Pattern_3x3(imageData))\n",
    "\n",
    "print(printImageLBP_Pattern3x3(241))"
   ]
  },
  {
   "cell_type": "code",
   "execution_count": null,
   "metadata": {
    "collapsed": true
   },
   "outputs": [],
   "source": []
  }
 ],
 "metadata": {
  "anaconda-cloud": {},
  "kernelspec": {
   "display_name": "Python [conda env:anaconda]",
   "language": "python",
   "name": "conda-env-anaconda-py"
  },
  "language_info": {
   "codemirror_mode": {
    "name": "ipython",
    "version": 3
   },
   "file_extension": ".py",
   "mimetype": "text/x-python",
   "name": "python",
   "nbconvert_exporter": "python",
   "pygments_lexer": "ipython3",
   "version": "3.5.2"
  }
 },
 "nbformat": 4,
 "nbformat_minor": 1
}
