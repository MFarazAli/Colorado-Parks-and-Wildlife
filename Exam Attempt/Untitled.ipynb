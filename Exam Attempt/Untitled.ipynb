{
 "cells": [
  {
   "cell_type": "code",
   "execution_count": 71,
   "metadata": {},
   "outputs": [],
   "source": [
    "import numpy as np\n",
    "import operator\n",
    "import os\n",
    "import cv2\n",
    "import re\n",
    "import pylab as pl\n",
    "from fnmatch import fnmatch\n",
    "from IPython.core.display import Image\n",
    "import matplotlib.pyplot as plt"
   ]
  },
  {
   "cell_type": "code",
   "execution_count": 77,
   "metadata": {},
   "outputs": [
    {
     "name": "stdout",
     "output_type": "stream",
     "text": [
      "Distance of Points A to D with Centroid 1 are:   [0, 4, 2, 26]\n",
      "Distance of Points A to D with Centroid 2 are:   [4, 0, 2, 10]\n"
     ]
    }
   ],
   "source": [
    "Points=dict()\n",
    "Dist_Cent1_Points=[]\n",
    "Dist_Cent2_Points=[]\n",
    "\n",
    "Points['A'] = np.array([1,1])\n",
    "Points['B'] = np.array([3,1])\n",
    "Points['C'] = np.array([2,2])\n",
    "Points['D'] = np.array([6,0])\n",
    "Centroid1 = np.array([1,1])\n",
    "Centroid2 = np.array([3,1])\n",
    "\n",
    "Points = sorted(Points.items(), key=operator.itemgetter(0))\n",
    "\n",
    "for keys,Values in Points:\n",
    "    Dist_Cent1_Points.append(sum(np.square(Values-Centroid1)))\n",
    "    Dist_Cent2_Points.append(sum(np.square(Values-Centroid2)))\n",
    "print(\"Distance of Points A to D with Centroid 1 are:  \",Dist_Cent1_Points)\n",
    "print(\"Distance of Points A to D with Centroid 2 are:  \",Dist_Cent2_Points)\n",
    "\n"
   ]
  },
  {
   "cell_type": "code",
   "execution_count": 78,
   "metadata": {},
   "outputs": [
    {
     "name": "stdout",
     "output_type": "stream",
     "text": [
      "[('A', array([1, 1])), ('B', array([3, 1])), ('C', array([2, 2])), ('D', array([6, 0]))]\n"
     ]
    }
   ],
   "source": [
    "print(Points)\n",
    "    \n",
    "    "
   ]
  },
  {
   "cell_type": "code",
   "execution_count": null,
   "metadata": {},
   "outputs": [],
   "source": []
  }
 ],
 "metadata": {
  "kernelspec": {
   "display_name": "Python 3",
   "language": "python",
   "name": "python3"
  },
  "language_info": {
   "codemirror_mode": {
    "name": "ipython",
    "version": 3
   },
   "file_extension": ".py",
   "mimetype": "text/x-python",
   "name": "python",
   "nbconvert_exporter": "python",
   "pygments_lexer": "ipython3",
   "version": "3.5.2"
  }
 },
 "nbformat": 4,
 "nbformat_minor": 2
}
